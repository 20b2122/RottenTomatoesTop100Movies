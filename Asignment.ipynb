{
 "cells": [
  {
   "cell_type": "code",
   "execution_count": 1,
   "id": "iraqi-productivity",
   "metadata": {},
   "outputs": [],
   "source": [
    "import pandas as pd"
   ]
  },
  {
   "cell_type": "code",
   "execution_count": 2,
   "id": "suffering-conversation",
   "metadata": {},
   "outputs": [],
   "source": [
    "html_file = 'C:/Users/DELL/Documents/Python/data/rottentomatoes/top100.html'\n",
    "url = 'https://www.rottentomatoes.com/top/bestofrt/'\n",
    "#print(url)\n",
    "\n",
    "import requests\n",
    "response = requests.get(url)\n",
    "#response.content"
   ]
  },
  {
   "cell_type": "code",
   "execution_count": 3,
   "id": "funded-thailand",
   "metadata": {},
   "outputs": [],
   "source": [
    "from bs4 import BeautifulSoup"
   ]
  },
  {
   "cell_type": "code",
   "execution_count": 4,
   "id": "variable-begin",
   "metadata": {},
   "outputs": [],
   "source": [
    "with open (html_file, 'wb') as fp:\n",
    "    fp.write(response.content)\n",
    "    \n",
    "with open (html_file, 'rb') as fp:\n",
    "    response = fp.read()\n",
    "\n",
    "#print(response)"
   ]
  },
  {
   "cell_type": "code",
   "execution_count": 5,
   "id": "familiar-latter",
   "metadata": {},
   "outputs": [],
   "source": [
    "with open (html_file, 'rb') as fp:\n",
    "    soup = BeautifulSoup(fp, 'html.parser')"
   ]
  },
  {
   "cell_type": "code",
   "execution_count": 7,
   "id": "express-steering",
   "metadata": {},
   "outputs": [],
   "source": [
    "data = {}\n",
    "\n",
    "table = soup.find('table', {'class':'table'})\n",
    "#print(table)\n",
    "\n",
    "rank_list=[]\n",
    "ranks = table.findAll('td', {'class':'bold'})\n",
    "for rank in ranks:\n",
    "    #print(rank.contents[0])\n",
    "    rank_list.append(rank.contents[0])\n",
    "\n",
    "movie_list=[]\n",
    "movies = table.findAll('a')\n",
    "for movie in movies:\n",
    "    #print(movie.contents[0])\n",
    "    movie_list.append(movie.contents[0][2:])\n",
    "\n",
    "rating_list=[]\n",
    "ratings = table.findAll('span',{'class':'tMeterScore'})\n",
    "for rating in ratings:\n",
    "    #print(rating.contents[0])\n",
    "    rating_list.append(rating.contents[0])\n",
    "\n",
    "watcher_list=[]\n",
    "watchers = table.findAll('td',{'class':'right hidden-xs'})\n",
    "for watcher in watchers:\n",
    "    #print(watcher.contents[0])\n",
    "    watcher_list.append(watcher.contents[0])"
   ]
  },
  {
   "cell_type": "code",
   "execution_count": 9,
   "id": "rocky-cisco",
   "metadata": {},
   "outputs": [
    {
     "data": {
      "text/html": [
       "<div>\n",
       "<style scoped>\n",
       "    .dataframe tbody tr th:only-of-type {\n",
       "        vertical-align: middle;\n",
       "    }\n",
       "\n",
       "    .dataframe tbody tr th {\n",
       "        vertical-align: top;\n",
       "    }\n",
       "\n",
       "    .dataframe thead th {\n",
       "        text-align: right;\n",
       "    }\n",
       "</style>\n",
       "<table border=\"1\" class=\"dataframe\">\n",
       "  <thead>\n",
       "    <tr style=\"text-align: right;\">\n",
       "      <th></th>\n",
       "      <th>ratings</th>\n",
       "      <th>movies</th>\n",
       "      <th>no. of watchers</th>\n",
       "    </tr>\n",
       "    <tr>\n",
       "      <th>ranks</th>\n",
       "      <th></th>\n",
       "      <th></th>\n",
       "      <th></th>\n",
       "    </tr>\n",
       "  </thead>\n",
       "  <tbody>\n",
       "    <tr>\n",
       "      <th>1.</th>\n",
       "      <td>96%</td>\n",
       "      <td>Black Panther (2018)</td>\n",
       "      <td>518</td>\n",
       "    </tr>\n",
       "    <tr>\n",
       "      <th>2.</th>\n",
       "      <td>98%</td>\n",
       "      <td>Parasite (Gisaengchung) (2019)</td>\n",
       "      <td>458</td>\n",
       "    </tr>\n",
       "    <tr>\n",
       "      <th>3.</th>\n",
       "      <td>94%</td>\n",
       "      <td>Avengers: Endgame (2019)</td>\n",
       "      <td>537</td>\n",
       "    </tr>\n",
       "    <tr>\n",
       "      <th>4.</th>\n",
       "      <td>99%</td>\n",
       "      <td>Casablanca (1942)</td>\n",
       "      <td>119</td>\n",
       "    </tr>\n",
       "    <tr>\n",
       "      <th>5.</th>\n",
       "      <td>97%</td>\n",
       "      <td>Knives Out (2019)</td>\n",
       "      <td>461</td>\n",
       "    </tr>\n",
       "    <tr>\n",
       "      <th>6.</th>\n",
       "      <td>93%</td>\n",
       "      <td>Us (2019)</td>\n",
       "      <td>543</td>\n",
       "    </tr>\n",
       "    <tr>\n",
       "      <th>7.</th>\n",
       "      <td>97%</td>\n",
       "      <td>Toy Story 4 (2019)</td>\n",
       "      <td>448</td>\n",
       "    </tr>\n",
       "    <tr>\n",
       "      <th>8.</th>\n",
       "      <td>99%</td>\n",
       "      <td>Lady Bird (2017)</td>\n",
       "      <td>394</td>\n",
       "    </tr>\n",
       "    <tr>\n",
       "      <th>9.</th>\n",
       "      <td>97%</td>\n",
       "      <td>Mission: Impossible - Fallout (2018)</td>\n",
       "      <td>432</td>\n",
       "    </tr>\n",
       "    <tr>\n",
       "      <th>10.</th>\n",
       "      <td>100%</td>\n",
       "      <td>Citizen Kane (1941)</td>\n",
       "      <td>94</td>\n",
       "    </tr>\n",
       "  </tbody>\n",
       "</table>\n",
       "</div>"
      ],
      "text/plain": [
       "      ratings                                           movies no. of watchers\n",
       "ranks                                                                         \n",
       "1.        96%                             Black Panther (2018)             518\n",
       "2.        98%                   Parasite (Gisaengchung) (2019)             458\n",
       "3.        94%                         Avengers: Endgame (2019)             537\n",
       "4.        99%                                Casablanca (1942)             119\n",
       "5.        97%                                Knives Out (2019)             461\n",
       "6.        93%                                        Us (2019)             543\n",
       "7.        97%                               Toy Story 4 (2019)             448\n",
       "8.        99%                                 Lady Bird (2017)             394\n",
       "9.        97%             Mission: Impossible - Fallout (2018)             432\n",
       "10.      100%                              Citizen Kane (1941)              94"
      ]
     },
     "metadata": {},
     "output_type": "display_data"
    }
   ],
   "source": [
    "data = {'ranks':rank_list,\n",
    "        'ratings':rating_list,\n",
    "        'movies':movie_list,\n",
    "        'no. of watchers':watcher_list}\n",
    "\n",
    "df = pd.DataFrame(data, columns=['ranks','ratings','movies','no. of watchers'])\n",
    "df.set_index('ranks', inplace=True)\n",
    "display(df.head(10))"
   ]
  },
  {
   "cell_type": "code",
   "execution_count": null,
   "id": "prescribed-kidney",
   "metadata": {},
   "outputs": [],
   "source": []
  }
 ],
 "metadata": {
  "kernelspec": {
   "display_name": "Python 3",
   "language": "python",
   "name": "python3"
  },
  "language_info": {
   "codemirror_mode": {
    "name": "ipython",
    "version": 3
   },
   "file_extension": ".py",
   "mimetype": "text/x-python",
   "name": "python",
   "nbconvert_exporter": "python",
   "pygments_lexer": "ipython3",
   "version": "3.9.1"
  }
 },
 "nbformat": 4,
 "nbformat_minor": 5
}
